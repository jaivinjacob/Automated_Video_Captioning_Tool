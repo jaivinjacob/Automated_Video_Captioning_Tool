{
 "cells": [
  {
   "cell_type": "code",
   "execution_count": 22,
   "id": "0b28e611-a558-40e9-b80d-948fa47939fd",
   "metadata": {},
   "outputs": [],
   "source": [
    "import pandas as pd\n",
    "from transformers import T5Tokenizer, T5ForConditionalGeneration, Trainer, TrainingArguments\n",
    "import torch\n",
    "from torch.utils.data import Dataset\n",
    "from tqdm import tqdm"
   ]
  },
  {
   "cell_type": "code",
   "execution_count": 38,
   "id": "77ad0beb-e1db-4845-9870-3dd557f94e09",
   "metadata": {},
   "outputs": [],
   "source": [
    "# Load the merged dataset\n",
    "training_data = pd.read_csv('video_training_data_10k.csv')\n",
    "\n",
    "# Keep 10 rows for testing\n",
    "test_data = training_data.sample(n=10, random_state=42)\n",
    "train_data = training_data.drop(test_data.index)"
   ]
  },
  {
   "cell_type": "code",
   "execution_count": 39,
   "id": "fd78dd8c-fe3e-45dd-a46d-8969d9ec021a",
   "metadata": {},
   "outputs": [
    {
     "data": {
      "text/html": [
       "<div>\n",
       "<style scoped>\n",
       "    .dataframe tbody tr th:only-of-type {\n",
       "        vertical-align: middle;\n",
       "    }\n",
       "\n",
       "    .dataframe tbody tr th {\n",
       "        vertical-align: top;\n",
       "    }\n",
       "\n",
       "    .dataframe thead th {\n",
       "        text-align: right;\n",
       "    }\n",
       "</style>\n",
       "<table border=\"1\" class=\"dataframe\">\n",
       "  <thead>\n",
       "    <tr style=\"text-align: right;\">\n",
       "      <th></th>\n",
       "      <th>video_id</th>\n",
       "      <th>generated_description</th>\n",
       "      <th>description</th>\n",
       "    </tr>\n",
       "  </thead>\n",
       "  <tbody>\n",
       "    <tr>\n",
       "      <th>0</th>\n",
       "      <td>10046243</td>\n",
       "      <td>ants are eating on the ground ants are eating ...</td>\n",
       "      <td>Ants eating dead insect</td>\n",
       "    </tr>\n",
       "    <tr>\n",
       "      <th>1</th>\n",
       "      <td>1005626710</td>\n",
       "      <td>a large orange tori tori tori tori tori tori t...</td>\n",
       "      <td>Kyoto,japan-sep 4,2017: timelapse of the visit...</td>\n",
       "    </tr>\n",
       "    <tr>\n",
       "      <th>2</th>\n",
       "      <td>1006641379</td>\n",
       "      <td>a man is seen in the middle of a flooded stree...</td>\n",
       "      <td>Circa 1940s - a film about copper mining and s...</td>\n",
       "    </tr>\n",
       "    <tr>\n",
       "      <th>3</th>\n",
       "      <td>1006733308</td>\n",
       "      <td>a bed with a pair of black pants and a white s...</td>\n",
       "      <td>Black kit classic menswear. men's accessories ...</td>\n",
       "    </tr>\n",
       "    <tr>\n",
       "      <th>4</th>\n",
       "      <td>1007094259</td>\n",
       "      <td>a woman doing yoga in the park a woman doing y...</td>\n",
       "      <td>Young asian woman yoga outdoors keep calm and ...</td>\n",
       "    </tr>\n",
       "    <tr>\n",
       "      <th>...</th>\n",
       "      <td>...</td>\n",
       "      <td>...</td>\n",
       "      <td>...</td>\n",
       "    </tr>\n",
       "    <tr>\n",
       "      <th>994</th>\n",
       "      <td>9643991</td>\n",
       "      <td>a close up of a curtain with a white backgroun...</td>\n",
       "      <td>White linen cloth on the wind</td>\n",
       "    </tr>\n",
       "    <tr>\n",
       "      <th>995</th>\n",
       "      <td>9709337</td>\n",
       "      <td>a person is laying in a hammol a person is lay...</td>\n",
       "      <td>Pan from person's legs resting on a hammock to...</td>\n",
       "    </tr>\n",
       "    <tr>\n",
       "      <th>996</th>\n",
       "      <td>9769340</td>\n",
       "      <td>aerial view of the hong skyline and the hong r...</td>\n",
       "      <td>Bridge to haeundae, south korea, wide shot, la...</td>\n",
       "    </tr>\n",
       "    <tr>\n",
       "      <th>997</th>\n",
       "      <td>9940922</td>\n",
       "      <td>a small dog is playing with a stick a small do...</td>\n",
       "      <td>Dog looking at camera turning head chewing bon...</td>\n",
       "    </tr>\n",
       "    <tr>\n",
       "      <th>998</th>\n",
       "      <td>9944846</td>\n",
       "      <td>a large white building with a large white roof...</td>\n",
       "      <td>Three grouped beach basket in the rising sun f...</td>\n",
       "    </tr>\n",
       "  </tbody>\n",
       "</table>\n",
       "<p>999 rows × 3 columns</p>\n",
       "</div>"
      ],
      "text/plain": [
       "       video_id                              generated_description  \\\n",
       "0      10046243  ants are eating on the ground ants are eating ...   \n",
       "1    1005626710  a large orange tori tori tori tori tori tori t...   \n",
       "2    1006641379  a man is seen in the middle of a flooded stree...   \n",
       "3    1006733308  a bed with a pair of black pants and a white s...   \n",
       "4    1007094259  a woman doing yoga in the park a woman doing y...   \n",
       "..          ...                                                ...   \n",
       "994     9643991  a close up of a curtain with a white backgroun...   \n",
       "995     9709337  a person is laying in a hammol a person is lay...   \n",
       "996     9769340  aerial view of the hong skyline and the hong r...   \n",
       "997     9940922  a small dog is playing with a stick a small do...   \n",
       "998     9944846  a large white building with a large white roof...   \n",
       "\n",
       "                                           description  \n",
       "0                              Ants eating dead insect  \n",
       "1    Kyoto,japan-sep 4,2017: timelapse of the visit...  \n",
       "2    Circa 1940s - a film about copper mining and s...  \n",
       "3    Black kit classic menswear. men's accessories ...  \n",
       "4    Young asian woman yoga outdoors keep calm and ...  \n",
       "..                                                 ...  \n",
       "994                      White linen cloth on the wind  \n",
       "995  Pan from person's legs resting on a hammock to...  \n",
       "996  Bridge to haeundae, south korea, wide shot, la...  \n",
       "997  Dog looking at camera turning head chewing bon...  \n",
       "998  Three grouped beach basket in the rising sun f...  \n",
       "\n",
       "[999 rows x 3 columns]"
      ]
     },
     "execution_count": 39,
     "metadata": {},
     "output_type": "execute_result"
    }
   ],
   "source": [
    "training_data"
   ]
  },
  {
   "cell_type": "code",
   "execution_count": 47,
   "id": "ad849c2d-3a09-487a-aa6d-b96e0aa98717",
   "metadata": {},
   "outputs": [],
   "source": [
    "# Define a custom Dataset class\n",
    "class VideoDescriptionDataset(Dataset):\n",
    "    def __init__(self, data, tokenizer, max_input_length=128, max_target_length=128):\n",
    "        self.tokenizer = tokenizer\n",
    "        self.max_input_length = max_input_length\n",
    "        self.max_target_length = max_target_length\n",
    "        self.data = data\n",
    "\n",
    "        self.inputs = []\n",
    "        self.targets = []\n",
    "\n",
    "        for _, row in tqdm(data.iterrows(), total=len(data), desc=\"Processing Data\"):\n",
    "            # Swap `description` and `generated_description` for target and input\n",
    "            input_enc = tokenizer(row['generated_description'], max_length=max_input_length, padding='max_length', truncation=True, return_tensors='pt')\n",
    "            target_enc = tokenizer(row['description'], max_length=max_target_length, padding='max_length', truncation=True, return_tensors='pt')\n",
    "            self.inputs.append(input_enc)\n",
    "            self.targets.append(target_enc)\n",
    "\n",
    "    def __len__(self):\n",
    "        return len(self.data)\n",
    "\n",
    "    def __getitem__(self, idx):\n",
    "        if idx >= len(self.inputs):  # Check if idx is out of bounds\n",
    "            raise IndexError(f\"Index {idx} is out of bounds for the dataset.\")\n",
    "        \n",
    "        item = {key: val.squeeze(0) for key, val in self.inputs[idx].items()}\n",
    "        item['labels'] = self.targets[idx]['input_ids'].squeeze(0)\n",
    "        return item"
   ]
  },
  {
   "cell_type": "code",
   "execution_count": 48,
   "id": "197e610f-5876-46b9-9d52-b06f940d34ce",
   "metadata": {},
   "outputs": [
    {
     "name": "stderr",
     "output_type": "stream",
     "text": [
      "C:\\Users\\jaivi\\anaconda3\\envs\\tf-gpunew\\lib\\site-packages\\huggingface_hub\\file_download.py:1132: FutureWarning: `resume_download` is deprecated and will be removed in version 1.0.0. Downloads always resume when possible. If you want to force a new download, use `force_download=True`.\n",
      "  warnings.warn(\n"
     ]
    }
   ],
   "source": [
    "# Initialize the tokenizer and model\n",
    "tokenizer = T5Tokenizer.from_pretrained('t5-small')\n",
    "model = T5ForConditionalGeneration.from_pretrained('t5-small').to('cuda')\n"
   ]
  },
  {
   "cell_type": "code",
   "execution_count": 49,
   "id": "966ba120-4da3-40ca-93e3-977bcdb1d0d3",
   "metadata": {},
   "outputs": [
    {
     "name": "stderr",
     "output_type": "stream",
     "text": [
      "Processing Data: 100%|██████████| 989/989 [00:02<00:00, 455.93it/s]\n",
      "Processing Data: 100%|██████████| 10/10 [00:00<00:00, 477.46it/s]\n"
     ]
    }
   ],
   "source": [
    "# Initialize the dataset\n",
    "train_dataset = VideoDescriptionDataset(train_data, tokenizer)\n",
    "test_dataset = VideoDescriptionDataset(test_data, tokenizer)"
   ]
  },
  {
   "cell_type": "code",
   "execution_count": 50,
   "id": "58ccbe42-efc7-4ce8-9f41-b969216b69fb",
   "metadata": {},
   "outputs": [],
   "source": [
    "# Define the training arguments\n",
    "training_args = TrainingArguments(\n",
    "    output_dir='./results',  # Directory to save model checkpoints and logs\n",
    "    per_device_train_batch_size=4,\n",
    "    per_device_eval_batch_size=4,\n",
    "    num_train_epochs=10,\n",
    "    logging_dir='./logs',\n",
    "    logging_steps=10,\n",
    "    evaluation_strategy='epoch',\n",
    "    save_strategy='epoch',\n",
    "    report_to='none'  # Disable reporting to avoid the deprecated warning\n",
    ")"
   ]
  },
  {
   "cell_type": "code",
   "execution_count": 51,
   "id": "5ccdb211-5e44-4ba8-a40e-b382d40f891a",
   "metadata": {},
   "outputs": [],
   "source": [
    "# Define data collator\n",
    "data_collator = lambda data: {\n",
    "    'input_ids': torch.stack([f['input_ids'] for f in data]),\n",
    "    'attention_mask': torch.stack([f['attention_mask'] for f in data]),\n",
    "    'labels': torch.stack([f['labels'] for f in data]),\n",
    "}"
   ]
  },
  {
   "cell_type": "code",
   "execution_count": 52,
   "id": "8e1c2b64-ce54-423f-ac55-f2b7a2b0966c",
   "metadata": {},
   "outputs": [],
   "source": [
    "# Initialize the Trainer\n",
    "trainer = Trainer(\n",
    "    model=model,\n",
    "    args=training_args,\n",
    "    train_dataset=train_dataset,\n",
    "    eval_dataset=test_dataset,\n",
    "    tokenizer=tokenizer,\n",
    "    data_collator=data_collator\n",
    ")"
   ]
  },
  {
   "cell_type": "code",
   "execution_count": 53,
   "id": "b2d57460-c8c1-48ae-b1fd-3e38d1ed7239",
   "metadata": {},
   "outputs": [
    {
     "name": "stderr",
     "output_type": "stream",
     "text": [
      "C:\\Users\\jaivi\\anaconda3\\envs\\tf-gpunew\\lib\\site-packages\\transformers\\optimization.py:411: FutureWarning: This implementation of AdamW is deprecated and will be removed in a future version. Use the PyTorch implementation torch.optim.AdamW instead, or set `no_deprecation_warning=True` to disable this warning\n",
      "  warnings.warn(\n"
     ]
    },
    {
     "data": {
      "text/html": [
       "\n",
       "    <div>\n",
       "      \n",
       "      <progress value='2480' max='2480' style='width:300px; height:20px; vertical-align: middle;'></progress>\n",
       "      [2480/2480 03:30, Epoch 10/10]\n",
       "    </div>\n",
       "    <table border=\"1\" class=\"dataframe\">\n",
       "  <thead>\n",
       " <tr style=\"text-align: left;\">\n",
       "      <th>Epoch</th>\n",
       "      <th>Training Loss</th>\n",
       "      <th>Validation Loss</th>\n",
       "    </tr>\n",
       "  </thead>\n",
       "  <tbody>\n",
       "    <tr>\n",
       "      <td>1</td>\n",
       "      <td>0.891500</td>\n",
       "      <td>0.886428</td>\n",
       "    </tr>\n",
       "    <tr>\n",
       "      <td>2</td>\n",
       "      <td>0.775200</td>\n",
       "      <td>0.798386</td>\n",
       "    </tr>\n",
       "    <tr>\n",
       "      <td>3</td>\n",
       "      <td>0.854600</td>\n",
       "      <td>0.784755</td>\n",
       "    </tr>\n",
       "    <tr>\n",
       "      <td>4</td>\n",
       "      <td>0.650600</td>\n",
       "      <td>0.776618</td>\n",
       "    </tr>\n",
       "    <tr>\n",
       "      <td>5</td>\n",
       "      <td>0.583500</td>\n",
       "      <td>0.774487</td>\n",
       "    </tr>\n",
       "    <tr>\n",
       "      <td>6</td>\n",
       "      <td>0.707700</td>\n",
       "      <td>0.770232</td>\n",
       "    </tr>\n",
       "    <tr>\n",
       "      <td>7</td>\n",
       "      <td>0.744600</td>\n",
       "      <td>0.766309</td>\n",
       "    </tr>\n",
       "    <tr>\n",
       "      <td>8</td>\n",
       "      <td>0.810300</td>\n",
       "      <td>0.767289</td>\n",
       "    </tr>\n",
       "    <tr>\n",
       "      <td>9</td>\n",
       "      <td>0.738600</td>\n",
       "      <td>0.765439</td>\n",
       "    </tr>\n",
       "    <tr>\n",
       "      <td>10</td>\n",
       "      <td>0.739100</td>\n",
       "      <td>0.765402</td>\n",
       "    </tr>\n",
       "  </tbody>\n",
       "</table><p>"
      ],
      "text/plain": [
       "<IPython.core.display.HTML object>"
      ]
     },
     "metadata": {},
     "output_type": "display_data"
    },
    {
     "data": {
      "text/plain": [
       "TrainOutput(global_step=2480, training_loss=0.9222029691742313, metrics={'train_runtime': 210.4722, 'train_samples_per_second': 46.99, 'train_steps_per_second': 11.783, 'total_flos': 334632604139520.0, 'train_loss': 0.9222029691742313, 'epoch': 10.0})"
      ]
     },
     "execution_count": 53,
     "metadata": {},
     "output_type": "execute_result"
    }
   ],
   "source": [
    "# Train the model\n",
    "trainer.train()\n"
   ]
  },
  {
   "cell_type": "code",
   "execution_count": 54,
   "id": "e4b0ff4c-48bd-4860-981a-fb793ba15735",
   "metadata": {},
   "outputs": [
    {
     "name": "stderr",
     "output_type": "stream",
     "text": [
      "Generating Predictions:   0%|          | 0/10 [00:00<?, ?it/s]C:\\Users\\jaivi\\anaconda3\\envs\\tf-gpunew\\lib\\site-packages\\transformers\\generation\\utils.py:1353: UserWarning: Using `max_length`'s default (20) to control the generation length. This behaviour is deprecated and will be removed from the config in v5 of Transformers -- we recommend using `max_new_tokens` to control the maximum length of the generation.\n",
      "  warnings.warn(\n",
      "Generating Predictions: 100%|██████████| 10/10 [00:01<00:00,  8.27it/s]\n"
     ]
    }
   ],
   "source": [
    "# Generate text for the 10 test rows\n",
    "model.eval()\n",
    "test_predictions = []\n",
    "for batch in tqdm(test_dataset, desc=\"Generating Predictions\"):\n",
    "    input_ids = batch['input_ids'].unsqueeze(0).to('cuda')\n",
    "    attention_mask = batch['attention_mask'].unsqueeze(0).to('cuda')\n",
    "    outputs = model.generate(input_ids, attention_mask=attention_mask)\n",
    "    generated_text = tokenizer.decode(outputs[0], skip_special_tokens=True)\n",
    "    test_predictions.append(generated_text)"
   ]
  },
  {
   "cell_type": "code",
   "execution_count": 56,
   "id": "62ceaf93-8643-4154-8dca-eec1af2d444c",
   "metadata": {},
   "outputs": [
    {
     "name": "stdout",
     "output_type": "stream",
     "text": [
      "Row 1:\n",
      "Actual Description: New york - 5 march, 2020: charming young woman walk on street use phone white animation сloud technology internet networking device online storage computing icon network connection virtual interface\n",
      "Input Generated Description: young woman using her smartphone in the street a woman is looking at her phone while walking down the street a woman is walking down the street while looking at her phone young woman using her smartphone in the street a woman walking down a street while looking at her phone a woman walking down a street with a cell young woman walking down the street with social icons around her young woman using mobile phone in the street young woman using her smartphone in the street young woman using her smartphone in the street young woman walking down the street with social icons around her young woman walking down the street with social icons around her young woman walking down the street with social icons around her young woman using mobile phone in the street young woman using mobile phone in the street young woman using mobile phone in the street young woman using mobile phone in the street young woman using mobile phone in the street young woman using her smartphone in the street young woman using her smartphone in the street young woman using her smartphone in the street young woman using her smartphone in the street young woman using her smartphone in the street young woman using her smartphone in the street a woman is walking down the street with her cell a woman is standing in the street with her cell a woman is standing in the street with many icons a woman is standing in the street with many icons young woman using her smartphone in the street young woman using her smartphone while walking down the street young woman using her smartphone while walking down the street young woman using her smartphone while walking down the street young woman using her smartphone in the street young woman using her smartphone in the street young woman using her smartphone in the street young woman using her smartphone in the street young woman using her smartphone in the street young woman using her smartphone while walking down the street young woman using her smartphone while walking down the street young woman using her smartphone while walking down the street young woman using her smartphone while walking down the street young woman walking down the street with social icons around her young woman using social media icons on the street young woman using her smartphone while walking down the street young woman using her smartphone in the street\n",
      "Generated Description: Young woman walking on the street with social icons\n",
      "\n",
      "Row 2:\n",
      "Actual Description: Happy friends interacting with each other in cafe\n",
      "Input Generated Description: three young business people having a conversation in a coffee shop three young business people having a conversation in a coffee shop three young people having a conversation in a coffee shop group of young business people having a meeting in a cafe group of young business people having a conversation in a coffee shop group of young business people having a conversation in a coffee shop group of friends having a conversation in a bar group of young people having a conversation in a coffee shop group of young business people having a conversation in a cafe group of young business people having a conversation in a coffee shop group of young friends having a conversation in a bar young couple having a conversation in a restaurant two young women talking to each other women in a cafe a group of friends having a conversation in a bar young couple having a conversation in a bar two young women talking to each other women in a cafe a young man and woman having a conversation in a restaurant two young women talking to each other women in a cafe two young women having a conversation in a restaurant two young women having a conversation in a restaurant young couple having a meal in a restaurant a young woman is having a drink with her friends a woman is having her make up with a man a young woman is having her make up with a man young couple having a meal in a restaurant two young women having a conversation in a restaurant two young women and a man having a conversation in a restaurant two young women having a conversation in a restaurant two young women having a conversation in a restaurant a man and woman having a conversation in a restaurant two young women having a conversation in a restaurant two young women and a man having a conversation in a restaurant two young women having a conversation in a restaurant two young women having a conversation in a restaurant two young women having a conversation in a restaurant two young women and a man talking in a cafe two young women having a conversation in a cafe two young women talking to each other women in a cafe two young women having a conversation in a bar two young women having a conversation in a bar two young women having a conversation in a bar\n",
      "Generated Description: Coffee shop with young business people in a bar.\n",
      "\n",
      "Row 3:\n",
      "Actual Description: Group of butterflies puddling on the ground and flying in nature, thailand butterflies swarm eats minerals in ban krang camp, kaeng krachan national park at thailand., zoom out.\n",
      "Input Generated Description: butterflies on the ground butterflies on the ground butterflies on the ground butterflies on the ground butterflies in the sand butterflies in the sand a bunch of butterflies on the ground butterflies in the forest a group of butterflies on the ground a group of butterflies on the ground a bunch of butterflies on the ground a group of butterflies flying over a dirt field a bunch of butterflies on the ground a bunch of butterflies on the ground a bunch of butterflies on the ground a group of butterflies on the ground a group of butterflies flying over a dirt field a bunch of butterflies on the ground butterflies flying in the air butterflies flying in the air a group of butterflies on the ground butterflies flying in the air butterflies flying in the air a bunch of butterflies flying in the air a bunch of butterflies flying over a dirt field a group of butterflies flying over a dirt field a bunch of butterflies flying in the air a bunch of butterflies flying over a dirt field a bunch of butterflies on the ground butterflies in the sand a bunch of butterflies on the ground a bunch of butterflies flying over a dirt field a bunch of butterflies on the ground a pile of garbage on the ground a bunch of butterflies on the ground a bunch of butterflies on the ground a bunch of butterflies on the ground a bunch of butterflies flying over a pile of trash a bunch of butterflies flying in the air a bunch of butterflies flying in the air a bunch of butterflies on the ground a group of butterflies flying over a dirt field a group of butterflies flying over a dirt field a bunch of butterflies on the ground a bunch of butterflies on the ground a bunch of butterflies on the ground a bunch of butterflies on the ground a bunch of butterflies on the ground a bunch of butterflies on the ground a bunch of butterflies on the ground\n",
      "Generated Description: Butterfly on the ground\n",
      "\n",
      "Row 4:\n",
      "Actual Description: View from inside the observatory ball of the fuji tv building in tokyo japan\n",
      "Input Generated Description: aerial view of traffic jam jamaray road in jakarta, indonesia an aerial view of a busy city street an aerial view of a busy intersection in the city an aerial view of a busy intersection in the city an aerial view of a busy city intersection an aerial view of a busy intersection in the city an aerial view of a busy intersection in the city an aerial view of a busy intersection in the city an aerial view of a busy intersection in the city an aerial view of a busy intersection in the city an aerial view of a busy intersection in the city an aerial view of a busy intersection in the city an aerial view of a busy intersection in the city an aerial view of a busy intersection in the city an aerial view of a busy city street an aerial view of a busy intersection in the city an aerial view of a busy intersection in the city an aerial view of a busy intersection in the city an aerial view of a busy intersection in tokyo an aerial view of a busy intersection in the city an aerial view of a busy intersection in tokyo an aerial view of a busy intersection in the city an aerial view of a busy intersection in tokyo an aerial view of a busy intersection in the city an aerial view of a busy intersection in tokyo an aerial view of a busy intersection in the city an aerial view of a busy intersection in the city aerial view of traffic jam in bangkok, thailand aerial view of traffic on a busy highway in hong an aerial view of a busy city intersection aerial view of traffic on a busy highway in tokyo, japan an aerial view of a busy intersection in the city an aerial view of a busy intersection in the city an aerial view of a busy intersection in the city an aerial view of a busy intersection in the city an aerial view of a busy intersection in the city an aerial view of a busy intersection in the city an aerial view of a busy intersection in the city an aerial view of a busy city street an aerial view of a busy intersection in the city a view of a busy city street from a high angle an aerial view of a busy city street a view of a busy city from a window a view of a busy city from a window a view of a busy city street from a window\n",
      "Generated Description: Aerial view of a busy intersection in the city\n",
      "\n",
      "Row 5:\n",
      "Actual Description: Fallow deer\n",
      "Input Generated Description: a herd of deers in a field a herd of deers in a field a herd of deers in a field a herd of deers in a field a herd of deers in a field a herd of deers in a field a herd of deers in a field a herd of deers in a field a herd of deers in a field a herd of deers in a field a herd of deers in a field a herd of deers in a field a herd of deers in a field a herd of deers in a field a herd of deers in a field a herd of deers in a field a herd of deers in a field a herd of deers in a field a herd of deers in a field a herd of deers in a field a herd of deers in a field a herd of deers in a field a herd of deers in a field a herd of deers in a field a herd of deers in a field a herd of deers in a field a herd of deers in a field a herd of deers in a field a herd of deers in a field a herd of deers in a field a herd of deers in a field a herd of deers in a field a herd of deers in a field a herd of deers in a field a herd of deers in a field a herd of deers in a field\n",
      "Generated Description: Herd of deers in a field\n",
      "\n",
      "Row 6:\n",
      "Actual Description: Spinning red daruma dolls on purple background.\n",
      "loop able 3d render animation.\n",
      "Input Generated Description: a pattern of red apples with faces red apples with faces red apples in a row with a blue background red apples with gold and blue background a lot of red apples with faces of different people a lot of red apples with faces of different people red apples with gold and red hearts on them red apples falling down on a blue background a lot of red apples with faces on them a pattern of red apples with faces red apples with faces and eyes red apples in a row red apples with faces on them a lot of red apples with faces of different people a lot of red apples with faces of different people red apples with gold letters on them red spheres moving in a circle red apples with faces and eyes\n",
      "Generated Description: Aerial slender apples with a slender slender\n",
      "\n",
      "Row 7:\n",
      "Actual Description: Little girl smiling on a swing in summer park\n",
      "Input Generated Description: a little girl is sitting on a swing a little girl is sitting on a swing a little girl is sitting on a swing in the park a little girl is sitting on a swing a little girl sitting on a swing in the park a little girl sitting on a swing in the park a girl is sitting on a swing in the park a girl sitting on a swing in the park a little girl is sitting on a swing a girl is sitting on a swing in the park a little girl is sitting on a swing a little girl sitting on a swing in the park a little girl sitting on a swing in the park a young girl sitting on a swing in a park a little girl sitting on a swing in the park a girl is sitting on a swing in the park a little girl is sitting on a swing a girl is sitting on a swing in the park a little girl is sitting on a swing a girl sitting on a swing in a park a little girl sitting on a swing in the park a young girl sitting on a swing in a park a girl sitting on a swing in the park a young girl sitting on a swing in the park a girl is sitting on a swing in the park a little girl is sitting on a swing a little girl is sitting on a swing a little girl sitting on a swing in the park a girl sitting on a swing in a park a little girl sitting on a swing in the park a young girl is smiling and holding a green pole a young girl smiles while sitting on a swing a little girl is sitting on a swing a little girl is sitting on a swing a little girl is sitting on a swing a little girl sitting on a swing in the park a young girl sitting on a swing in a park a girl sitting on a swing in the park a little girl is sitting on a swing a young girl is sitting on a swing a girl is sitting on a swing in the park a little girl is sitting on a swing a little girl sitting on a swing in the park a little girl sitting on a swing in the park a young girl sitting on a swing in a park a little girl is sitting on a swing a little girl is sitting on a swing a little girl is sitting on a swing a girl is smiling and holding a green swing a little girl is sitting on a swing a little girl sitting on a swing in the park a little girl sitting on a swing in the park a girl is sitting on a swing in the park a little girl is sitting on a swing a little girl is sitting on a swing a little girl is sitting on a swing a little girl is sitting on a swing a young girl sitting on a swing in the grass a little girl sitting on a swing in the park a girl sitting on a swing in a park a girl sitting on a swing in the park a girl is sitting on a swing in the park a young girl is sitting on a swing a little girl is sitting on a swing a little girl is sitting on a swing a little girl sitting on a swing chair a little girl sitting on a swing in the park a little girl sitting on a swing in the park a young girl sitting on a swing in the park a young girl is sitting on a swing a little girl sitting on a swing in the park a young girl sitting on a swing in the park a girl is standing in front of a green fence a little girl sitting on a swing in the park a little girl sitting on a swing in the park a girl sitting on a swing in the park a young girl sitting on a swing in a park a little girl is sitting on a swing a little girl is sitting on a swing a little girl is sitting on a swing a little girl is playing on a swing a little girl sitting on a swing in the park a little girl sitting on a swing in the park a young girl sitting on a swing in a park a girl sitting on a swing in a park a young girl sitting on a swing in a park a girl sitting on a swing in a park a young girl is sitting on a swing a little girl sitting on a swing chair a little girl sitting on a swing in the park a little girl sitting on a swing in the park a girl sitting on a swing in a park a young girl sitting on a swing in the park a young girl sitting on a swing in a park a young girl sitting on a swing in the park a little girl is sitting on a swing a little girl sitting on a swing chair a little girl sitting on a swing in the park a little girl sitting on a swing in the park a little girl is sitting on a swing\n",
      "Generated Description: Little girl sitting on a swing in the park\n",
      "\n",
      "Row 8:\n",
      "Actual Description: Super slow motion of champagne explosion, opening champagne bottle closeup. filmed on high speed cinema camera, 1000fps\n",
      "Input Generated Description: a bottle of champagne with a cork a bottle of champagne with a cork a bottle of champagne with a cork a bottle of champagne with a cork a bottle of champagne with a cork a bottle of champagne with a cork a bottle of champagne being poured into a glass champagne bottle with water splash champagne being poured from a bottle a bottle of champagne being poured into a glass a bottle of champagne being poured into a glass a bottle of champagne being poured into a glass champagne being poured from a bottle champagne being poured into a glass champagne bottle with a spray of champagne champagne bottle with water splash champagne being poured from a bottle champagne bottle with water splash champagne being poured from a bottle champagne bottle with water splash champagne bottle popping out champagne bottle with water splash champagne bottle with water splash champagne bottle with water splash a bottle of beer being poured into the water champagne bottle with water splash champagne bottle with water splashing out champagne bottle with water splashing out champagne bottle with water splash champagne bottle popping out of the cork champagne bottle popping out of the cork champagne bottle with water splashing out champagne bottle with ice splashing a bottle of champagne being poured into the air a bottle of champagne being poured into the glass a bottle of champagne being poured into the air champagne bottle with ice splashing stock photo champagne bottle with water splash champagne bottle popping out of the bottle a bottle of champagne being poured into the glass champagne bottle with water splash champagne bottle with a splash of champagne champagne bottle popping out of the bottle a bottle of champagne being poured into the glass\n",
      "Generated Description: Champagne bottle of champagne poured from a bottle\n",
      "\n",
      "Row 9:\n",
      "Actual Description: Muslim woman blows clouds of smoke from mouth while smoking hookah while sitting on sofa.\n",
      "Input Generated Description: a woman in a hina sitting on a couch with a snake a woman in a hina sitting on a couch with a snake a woman in a hina sitting on a couch with a snake a woman sitting on a couch with a snake a woman sitting on a couch with a snake a woman sitting on a couch with a snake a woman sitting on a couch with a snake a woman sitting on a couch with a snake a woman sitting on a couch with a snake a woman sitting on a couch with a snake a woman sitting on a couch with a snake a woman sitting on a couch with a snake a woman sitting on a couch with a snake a woman sitting on a couch with a snake a woman sitting on a couch with a snake a woman sitting on a couch with a snake a woman sitting on a couch with a snake a woman sitting on a couch with a snake a woman sitting on a couch with a snake a woman sitting on a couch with a snake a woman sitting on a couch with a snake a woman sitting on a couch with a snake a woman sitting on a couch with a snake a woman sitting on a couch with a snake a woman sitting on a couch with a snake a woman sitting on a couch with a snake a woman sitting on a couch with a snake a woman sitting on a couch with a snake a woman sitting on a couch with a snake a woman sitting on a couch with a snake a woman sitting on a couch with a snake a woman sitting on a couch with a snake a woman sitting on a couch with a snake a woman sitting on a couch with a snake a woman sitting on a couch with a snake a woman sitting on a couch with a snake a woman sitting on a couch with a snake a woman sitting on a couch with a snake a woman sitting on a couch with a snake a woman sitting on a couch with a snake a woman sitting on a couch with a snake a woman sitting on a couch with a snake a woman sitting on a couch with a snake a woman sitting on a couch with a snake a woman sitting on a couch with a snake a woman sitting on a couch with a snake a woman sitting on a couch with a snake a woman sitting on a couch with a snake a woman sitting on a couch with a snake a woman sitting on a couch with a snake a woman sitting on a couch with a snake a woman sitting on a couch with a snake a woman sitting on a couch with a lamp a woman sitting on a couch with a snake a woman sitting on a couch with a snake a woman sitting on a couch with a snake a woman sitting on a couch with a snake a woman sitting on a couch with a lamp a woman sitting on a couch with a snake a woman sitting on a couch with a lamp a woman sitting on a couch with a lamp a woman sitting on a couch with a lamp a woman sitting on a couch with a lamp a woman sitting on a couch with a lamp a woman sitting on a couch with a lamp a woman sitting on a couch with a lamp a woman sitting on a couch with a lamp a woman sitting on a couch with a lamp a woman sitting on a couch with a snake a woman sitting on a couch with a snake a woman sitting on a couch with a snake a woman sitting on a couch with a snake a woman sitting on a couch with a snake a woman sitting on a couch with a snake a woman sitting on a couch with a snake a woman sitting on a couch with a snake a woman sitting on a couch with a snake a woman sitting on a couch with a snake a woman sitting on a couch with a snake a woman sitting on a couch with a snake a woman in a hina sitting on a couch with a snake a woman sitting on a couch with a snake a woman sitting on a couch with a snake a woman sitting on a couch with a snake a woman sitting on a couch with a snake a woman sitting on a couch with a snake a woman sitting on a couch with a snake a woman sitting on a couch with a snake a woman sitting on a couch with a snake a woman sitting on a couch with a snake a woman sitting on a couch with a snake a woman sitting on a couch with a snake\n",
      "Generated Description: A young woman sitting on a couch with a snake on a couch with a\n",
      "\n",
      "Row 10:\n",
      "Actual Description: Aerial view over port vell barcelona from the top of the column - barcelona / spain - october 3, 2016\n",
      "Input Generated Description: a view of the port in the city of marseille a view of the port in the city of marseille the view from the top of the building of the port in barcelona a view of the port in barcelona, spain a view of the port in barcelona, spain a view of the port from a window a view of the port from a window a view of the port from a window a view of the port from a window a view of the port from a balcony a view of the port from a balcony in the city a view of the port from a balcony in the city a view of the port from a balcony in the city a view of the port from a balcony in barcelona a view of the port in gibraltar a view of the port in gibraltar a view of the city of marseille from a window a view of the city of marseille from a window a view of the city of marseille from a balcony a view of the port of marseille from the top of the hill a view of the port of marseille from the top of the hill a view of the port of marseille from the top of the hill a view of the port from a balcony in the city a view of the port in the city of marseille a view of the port of marseille from a balcony a view of the port of marseille from the top of the hill a view of the port of marseille from the top of the hill a view of the port of marseille from the top of the hill a view of the port of marseille from the top of the hill a view of the port of marseille from a balcony a view of the port of marseille from the top of the hill a view of the port of marseille from a balcony a view of the port of marseille from a balcony aerial view of the port of genoa, italy a view of the port of marseille from a balcony a view of the port of marseille from a balcony a view of the port of marseille from a balcony a view of the port of marseille from the top of the hill a view of the port of marseille from a window\n",
      "Generated Description: Aerial view of the port in the city of marseille\n",
      "\n"
     ]
    }
   ],
   "source": [
    "# Show the output for the 10 rows\n",
    "for i, (row, prediction) in enumerate(zip(test_data.iterrows(), test_predictions)):\n",
    "    idx, row_data = row\n",
    "    print(f\"Row {i+1}:\")\n",
    "    print(f\"Actual Description: {row_data['description']}\")\n",
    "    print(f\"Input Generated Description: {row_data['generated_description']}\")\n",
    "    print(f\"Generated Description: {prediction}\")\n",
    "    print()\n"
   ]
  },
  {
   "cell_type": "markdown",
   "id": "8497a813-ff49-4f62-b564-9d0131f7e5cc",
   "metadata": {},
   "source": [
    "10k videos training"
   ]
  },
  {
   "cell_type": "code",
   "execution_count": null,
   "id": "c2825838-a981-4b4f-9870-ca5bd2049a64",
   "metadata": {},
   "outputs": [],
   "source": []
  }
 ],
 "metadata": {
  "kernelspec": {
   "display_name": "Python 3 (ipykernel)",
   "language": "python",
   "name": "python3"
  },
  "language_info": {
   "codemirror_mode": {
    "name": "ipython",
    "version": 3
   },
   "file_extension": ".py",
   "mimetype": "text/x-python",
   "name": "python",
   "nbconvert_exporter": "python",
   "pygments_lexer": "ipython3",
   "version": "3.9.19"
  }
 },
 "nbformat": 4,
 "nbformat_minor": 5
}
